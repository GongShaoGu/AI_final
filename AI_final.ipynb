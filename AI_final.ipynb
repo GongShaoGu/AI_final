{
 "cells": [
  {
   "attachments": {
    "image-2.png": {
     "image/png": "[encoded data removed]"
    },
    "image.png": {
     "image/png": "[encoded data removed]"
    }
   },
   "cell_type": "markdown",
   "metadata": {},
   "source": [
    "* ### 第一步：  \n",
    "##### 建立UCB演算法  \n",
    "參考：https://www.analyticsvidhya.com/blog/2018/09/reinforcement-multi-armed-bandit-scratch-python/  \n",
    "\n",
    "![image-2.png](attachment:image-2.png)  \n",
    "![image.png](attachment:image.png)"
   ]
  },
  {
   "cell_type": "code",
   "execution_count": 1,
   "metadata": {},
   "outputs": [],
   "source": [
    "import math\n",
    "N = 10000 #Multi armed bandits的輪數\n",
    "d = 10 #模型數\n",
    "ads_selected = [] #計錄每輪選擇的模型\n",
    "numbers_of_selections = [0] * d #計錄每個模型被選擇的次數\n",
    "sums_of_reward = [0] * d #計錄每個模型的總獎賞\n",
    "total_reward = 0 #總獎賞\n",
    "\n",
    "for n in range(0, N):\n",
    "    ad = 0 #本次選擇的模型\n",
    "    max_upper_bound = 0 #最大的上界\n",
    "    for i in range(0, d):\n",
    "\n",
    "        #-------------------------------------------------------------------------\n",
    "        #如果第i個模型訓練過，則執行此部分\n",
    "        if (numbers_of_selections[i] > 0): \n",
    "            average_reward = sums_of_reward[i] / numbers_of_selections[i]\n",
    "            delta_i = math.sqrt(2 * math.log(n+1) / numbers_of_selections[i])\n",
    "            upper_bound = average_reward + delta_i\n",
    "        #-------------------------------------------------------------------------\n",
    "        \n",
    "        #-------------------------------------------------------------------------\n",
    "        #第i個模型沒有執行過，則運行此段\n",
    "        else:\n",
    "            upper_bound = 1e400 #設為一個極大值，讓此輪須先訓練此模型\n",
    "        #-------------------------------------------------------------------------\n",
    "        \n",
    "        if upper_bound > max_upper_bound:\n",
    "            max_upper_bound = upper_bound\n",
    "            ad = i\n",
    "    ads_selected.append(ad)\n",
    "    numbers_of_selections[ad] += 1\n",
    "    reward = dataset.values[n, ad]\n",
    "    sums_of_reward[ad] += reward\n",
    "    total_reward += reward\n",
    "\n"
   ]
  },
  {
   "attachments": {},
   "cell_type": "markdown",
   "metadata": {},
   "source": [
    "* ### 第二步：  \n",
    "##### 建立RCUCB演算法  "
   ]
  },
  {
   "cell_type": "code",
   "execution_count": null,
   "metadata": {},
   "outputs": [],
   "source": [
    "def cost_function(x) :\n",
    "    return x\n",
    "def penalty_function(x) :\n",
    "    return 10 * x\n",
    "\n",
    "N = 10000 #Multi armed bandits的輪數\n",
    "d = 10 #模型數\n",
    "ads_selected = [] #計錄每輪選擇的模型\n",
    "numbers_of_selections = [0] * d #計錄每個模型被選擇的次數\n",
    "sums_of_reward = [0] * d #計錄每個模型的總獎賞\n",
    "sums_of_cost = [0] * d\n",
    "sums_of_penalty = [0] * d\n",
    "total_reward = 0 #總獎賞\n",
    "\n",
    "for n in range(0, N):\n",
    "    ad = 0 #本次選擇的模型\n",
    "    max_upper_bound = 0 #最大的上界\n",
    "    for i in range(0, d):\n",
    "\n",
    "        #-------------------------------------------------------------------------\n",
    "        #如果第i個模型訓練過，則執行此部分\n",
    "        if (numbers_of_selections[i] > 0): \n",
    "            average_reward = sums_of_reward[i] / numbers_of_selections[i]\n",
    "            delta_i = math.sqrt(2 * math.log(n+1) / numbers_of_selections[i])\n",
    "            upper_bound = average_reward + delta_i\n",
    "        #-------------------------------------------------------------------------\n",
    "        \n",
    "        #-------------------------------------------------------------------------\n",
    "        #第i個模型沒有執行過，則運行此段\n",
    "        else:\n",
    "            upper_bound = 1e400 #設為一個極大值，讓此輪須先訓練此模型\n",
    "        #-------------------------------------------------------------------------\n",
    "        \n",
    "        if upper_bound > max_upper_bound:\n",
    "            max_upper_bound = upper_bound\n",
    "            ad = i\n",
    "    ads_selected.append(ad)\n",
    "    numbers_of_selections[ad] += 1\n",
    "    reward = dataset.values[n, ad]\n",
    "    sums_of_reward[ad] += reward\n",
    "    total_reward += reward\n"
   ]
  }
 ],
 "metadata": {
  "kernelspec": {
   "display_name": "AI_class",
   "language": "python",
   "name": "python3"
  },
  "language_info": {
   "codemirror_mode": {
    "name": "ipython",
    "version": 3
   },
   "file_extension": ".py",
   "mimetype": "text/x-python",
   "name": "python",
   "nbconvert_exporter": "python",
   "pygments_lexer": "ipython3",
   "version": "3.8.16"
  },
  "orig_nbformat": 4
 },
 "nbformat": 4,
 "nbformat_minor": 2
}
